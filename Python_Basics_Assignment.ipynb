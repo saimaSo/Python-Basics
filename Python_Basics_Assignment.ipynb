{
  "nbformat": 4,
  "nbformat_minor": 0,
  "metadata": {
    "colab": {
      "provenance": []
    },
    "kernelspec": {
      "name": "python3",
      "display_name": "Python 3"
    },
    "language_info": {
      "name": "python"
    }
  },
  "cells": [
    {
      "cell_type": "markdown",
      "source": [
        "**THEORETICAL QUESTIONS**"
      ],
      "metadata": {
        "id": "JA_T3jPFtVD7"
      }
    },
    {
      "cell_type": "markdown",
      "source": [
        "Q1. What is Python and why is it popular ?\n",
        "- Python is a programming language which is described as a \"general purpose\" language, means it can be used for a wide range of tasks, from web development and data analysis to artificial intelligence.It is designed to be highly readable.Python is easy to understand and write as it uses simple english keywords, which makes it popular amongst programmers."
      ],
      "metadata": {
        "id": "uHGfjQRhRwfc"
      }
    },
    {
      "cell_type": "markdown",
      "source": [
        "Q2. What is an interpreter in Python ?\n",
        "- An interpreter in python is a program that executes python code line by line, translating it into machine code that the computer can understand. Python's interpreter runs the code directly, which makes it easier to test and debug."
      ],
      "metadata": {
        "id": "-53P6oBoVZib"
      }
    },
    {
      "cell_type": "markdown",
      "source": [
        "Q3. What are pre-defined keywords in python ?\n",
        "- In python, keywords are reserved words that have pre-defined meanings.These keywords are case-sensitive and cannot be redefined or overridden within a python program."
      ],
      "metadata": {
        "id": "W5WN2l_iWcp9"
      }
    },
    {
      "cell_type": "markdown",
      "source": [
        "Q4. Can keywords be used as variable names ?\n",
        "\n",
        " - Keywords cannot be used as variable names because keywords have some set function under python , for example: **if** or **else**, these keywords have a specific function and are used in writing a conditional statement.\n",
        "\n"
      ],
      "metadata": {
        "id": "j_9RPtOzXWtO"
      }
    },
    {
      "cell_type": "markdown",
      "source": [
        "Q5. What is mutability in python ?\n",
        "- Mutability refers to the dynamic nature of an objest such as, a  list or a dictionary, means the elements in any list can be modified even after its creation."
      ],
      "metadata": {
        "id": "fIs3uT5yYWWX"
      }
    },
    {
      "cell_type": "markdown",
      "source": [
        "Q6. Why are lists mutable, but tuples are immutable ?\n",
        "- Lists are mutable because they are designed to allow modifications(adding,removing,replacing elements), while tuples are fixed sets of values,that are ensured to remain constant, and thus they are immutable."
      ],
      "metadata": {
        "id": "Sg7NLLfaZeUA"
      }
    },
    {
      "cell_type": "markdown",
      "source": [
        "Q7. What is the difference between \"==\" and \"is\" operator in Python ?\n",
        "\n",
        "- In python, the above operators are used for comparison, but\n",
        " \"==\" operator is known as equality operator, it checks if the value of any two objects are equal or not.And it compares the elements of the objects.\n",
        "\n",
        "-  The \"is\" operator is known as identity operator, it checks whether they are the same object or not, it checks the identity of the objects and not their elements.\n"
      ],
      "metadata": {
        "id": "mDpqsudAb65z"
      }
    },
    {
      "cell_type": "markdown",
      "source": [
        "Q8. What are logical operators in python ?\n",
        "\n",
        "- Logical operators in puthon are used to combine conditions.These operators return a boolean value ( True or False ).\n",
        "They are:\n",
        " 1. and\n",
        " 2. or\n",
        " 3. not\n",
        " **and**: returns True if both the conditions are true.\n",
        "\n",
        " **or**: returns True if atleast one of the conditions are true\n",
        "\n",
        " **not**: it reverses the boolean value of the condition"
      ],
      "metadata": {
        "id": "PPv_TL8nePmf"
      }
    },
    {
      "cell_type": "markdown",
      "source": [
        "Q9. What is type casting in python ?\n",
        "\n",
        "- The process of changing the data-type of a value or an object in python is known as type casting.\n",
        "For example:\n",
        "\n",
        "Input\n",
        "\n",
        "**a=3.4**\n",
        "\n",
        "**type(a)**\n",
        "\n",
        "\n",
        "Output\n",
        "\n",
        "**float**\n",
        "\n",
        "Now to change this into an integer\n",
        "\n",
        "Input\n",
        "\n",
        "**int(a)**\n",
        "\n",
        "Output\n",
        "\n",
        "**int**\n"
      ],
      "metadata": {
        "id": "Y85Ab_23eKhj"
      }
    },
    {
      "cell_type": "markdown",
      "source": [
        "Q10. What is the difference between impicit and explicit type casting ?\n",
        "\n",
        "- In implicit type casting,  python understands the data type itself.For example:\n",
        "\n",
        "Input\n",
        "\n",
        "**a=5**\n",
        "\n",
        "**type(a)**\n",
        "\n",
        "Output\n",
        "\n",
        "**int**\n",
        "\n",
        "- In explicit type casting, we have to convert data type using inbuilt functions like str, int, float, bool.For example:\n",
        "\n",
        "Input\n",
        "\n",
        "**a=\"2\"**\n",
        "\n",
        "**type(a)**\n",
        "\n",
        "Output\n",
        "\n",
        "**str**\n",
        "\n",
        "- To change it into an integer as '2' is a number , i will have to write **int(a)**, and then if i find the type it would give me an integer."
      ],
      "metadata": {
        "id": "PYw3PdXQinTQ"
      }
    },
    {
      "cell_type": "markdown",
      "source": [
        "Q11. What is the purpose of conditional statements in python ?\n",
        "\n",
        "- Conditional statements helps us to code decisions based on some two or more pre-conditions."
      ],
      "metadata": {
        "id": "PiIpq-v-kvQ7"
      }
    },
    {
      "cell_type": "markdown",
      "source": [
        "Q12. How does the elif statement work ?\n",
        "\n",
        "- The 'elif' statement which is short for 'else if' is used to check multiple conditions.The 'if' keyword checks the first condition and 'elif' checks the other given condition, only when the 'if' condition is False. We can have multiple 'elif' conditions."
      ],
      "metadata": {
        "id": "PpXbwAfmlbl5"
      }
    },
    {
      "cell_type": "markdown",
      "source": [
        "Q13. What is the difference between for and while loops ?\n",
        "\n",
        "- \"for\" loop is used for iterating over a sequence of elements, while \"while\" loop is used for executing code until a specified condition is met."
      ],
      "metadata": {
        "id": "By0UPl3uoB8D"
      }
    },
    {
      "cell_type": "markdown",
      "source": [
        "Q14. Describe a scenario where a while loop is more suitable than a for loop.\n",
        "\n",
        "- A user decides when to stop playing a game, here the while loop would be more suitable as the number of games the user is going to play is not fixed. It depends on whether they want to play again or not."
      ],
      "metadata": {
        "id": "h_NgmUV4pRW2"
      }
    },
    {
      "cell_type": "code",
      "source": [
        "playagain = \"yes\"\n",
        "while playagain == \"yes\":\n",
        "   print(\"playing the game...\")\n",
        "   playagain = input(\"do you want to play again? (yes/no): \")\n",
        "print(\"thanks for playing\")\n"
      ],
      "metadata": {
        "colab": {
          "base_uri": "https://localhost:8080/"
        },
        "id": "-QnYsnzurfEd",
        "outputId": "0435bd84-9e69-466c-af25-a2616d2c2106"
      },
      "execution_count": null,
      "outputs": [
        {
          "output_type": "stream",
          "name": "stdout",
          "text": [
            "playing the game...\n",
            "do you want to play again? (yes/no): yes\n",
            "playing the game...\n",
            "do you want to play again? (yes/no): no\n",
            "thanks for playing\n"
          ]
        }
      ]
    },
    {
      "cell_type": "markdown",
      "source": [
        "**PRACTICAL QUESTIONS**"
      ],
      "metadata": {
        "id": "ir_8U1gzto7T"
      }
    },
    {
      "cell_type": "markdown",
      "source": [
        "Q1. Write a python program to print \"Hello, World!\""
      ],
      "metadata": {
        "id": "erVYDZw1t7ch"
      }
    },
    {
      "cell_type": "code",
      "source": [
        "print(\"Hello, World!\")"
      ],
      "metadata": {
        "colab": {
          "base_uri": "https://localhost:8080/"
        },
        "id": "ldzxvAoIuI-N",
        "outputId": "5b5dd47c-d54d-43a0-e803-7d7c2136688e"
      },
      "execution_count": null,
      "outputs": [
        {
          "output_type": "stream",
          "name": "stdout",
          "text": [
            "Hello, World!\n"
          ]
        }
      ]
    },
    {
      "cell_type": "markdown",
      "source": [
        "Q2. Write a python program that displays your name and age."
      ],
      "metadata": {
        "id": "Qdt2PAVxue-0"
      }
    },
    {
      "cell_type": "code",
      "source": [
        "name= input('My name is: ')\n",
        "age= int(input('My age is: '))\n",
        "print(f'My name is {name} and my age is {age}')\n"
      ],
      "metadata": {
        "colab": {
          "base_uri": "https://localhost:8080/"
        },
        "id": "tI_yvFmauqeB",
        "outputId": "245927a4-6f7c-4766-8c5e-5c2f80800308"
      },
      "execution_count": null,
      "outputs": [
        {
          "output_type": "stream",
          "name": "stdout",
          "text": [
            "My name is: Saima\n",
            "My age is: 19\n",
            "My name is Saima and my age is 19\n"
          ]
        }
      ]
    },
    {
      "cell_type": "markdown",
      "source": [
        "Q3. Write a code to print all the pre-defined keywords in python using the keyword library."
      ],
      "metadata": {
        "id": "45NtjV-4wP29"
      }
    },
    {
      "cell_type": "code",
      "source": [
        "help('keywords')#help command is used to print all the keywords in python"
      ],
      "metadata": {
        "colab": {
          "base_uri": "https://localhost:8080/"
        },
        "id": "VpSoBDGawkUW",
        "outputId": "3fcff553-ef9b-4c63-f325-eb73d4d5e244"
      },
      "execution_count": null,
      "outputs": [
        {
          "output_type": "stream",
          "name": "stdout",
          "text": [
            "\n",
            "Here is a list of the Python keywords.  Enter any keyword to get more help.\n",
            "\n",
            "False               class               from                or\n",
            "None                continue            global              pass\n",
            "True                def                 if                  raise\n",
            "and                 del                 import              return\n",
            "as                  elif                in                  try\n",
            "assert              else                is                  while\n",
            "async               except              lambda              with\n",
            "await               finally             nonlocal            yield\n",
            "break               for                 not                 \n",
            "\n"
          ]
        }
      ]
    },
    {
      "cell_type": "markdown",
      "source": [
        "Q4. Write a program that checks if a given word is a python keyword."
      ],
      "metadata": {
        "id": "U7jfxmX-w0EK"
      }
    },
    {
      "cell_type": "code",
      "source": [
        "import keyword\n",
        "\n",
        "word = input('enter a word:')\n",
        "if keyword.iskeyword(word):\n",
        "\n",
        "    print(f'{word} is a keyword in python')\n",
        "else:\n",
        "    print(f'{word} is not a keyword in python')"
      ],
      "metadata": {
        "colab": {
          "base_uri": "https://localhost:8080/"
        },
        "id": "vsXw-fZy_uhv",
        "outputId": "e8cc0f0e-d2cf-4c64-f0f5-2833940e5ef5"
      },
      "execution_count": null,
      "outputs": [
        {
          "output_type": "stream",
          "name": "stdout",
          "text": [
            "enter a word:else\n",
            "else is a keyword in python\n"
          ]
        }
      ]
    },
    {
      "cell_type": "markdown",
      "source": [
        "Q5. Create a list and tuple in python, and demonstrate how attempting to change an element works differently for each"
      ],
      "metadata": {
        "id": "uD8Sc_MnAKiC"
      }
    },
    {
      "cell_type": "code",
      "source": [
        "list1=[\"banana\",\"brinjal\",\"ladyfinger\",\"pencilbox\"]\n",
        "tuple1=(2,\"world\",5+6j,False)"
      ],
      "metadata": {
        "id": "4ty4ZrmdAJ7R"
      },
      "execution_count": null,
      "outputs": []
    },
    {
      "cell_type": "markdown",
      "source": [
        "now, if i want to change an element in my list1 ,replacing brinjal with potato\n",
        "\n"
      ],
      "metadata": {
        "id": "dUqkJQWKBRC_"
      }
    },
    {
      "cell_type": "code",
      "source": [
        "list1[1]= \"potato\"\n",
        "list1"
      ],
      "metadata": {
        "colab": {
          "base_uri": "https://localhost:8080/"
        },
        "id": "-xGVOJvDAyGD",
        "outputId": "0753d972-fcf7-48db-f491-2f3e4168a2eb"
      },
      "execution_count": null,
      "outputs": [
        {
          "output_type": "execute_result",
          "data": {
            "text/plain": [
              "['banana', 'potato', 'ladyfinger', 'penicilbox']"
            ]
          },
          "metadata": {},
          "execution_count": 12
        }
      ]
    },
    {
      "cell_type": "markdown",
      "source": [
        "then if i attempt to change any element in tuple1 , it will show an error because tuples are immutable, meaning the elements in a tuple cannot be modified. They are supposed to be fixed"
      ],
      "metadata": {
        "id": "ZzgJxoulD2UW"
      }
    },
    {
      "cell_type": "code",
      "source": [
        "tuple1[2]=\"hello\"\n",
        "tuple1"
      ],
      "metadata": {
        "colab": {
          "base_uri": "https://localhost:8080/",
          "height": 165
        },
        "id": "V9eLH3o_DokO",
        "outputId": "4c477695-8d54-49e7-8df2-adbf2ee4df90"
      },
      "execution_count": null,
      "outputs": [
        {
          "output_type": "error",
          "ename": "TypeError",
          "evalue": "'tuple' object does not support item assignment",
          "traceback": [
            "\u001b[0;31m---------------------------------------------------------------------------\u001b[0m",
            "\u001b[0;31mTypeError\u001b[0m                                 Traceback (most recent call last)",
            "\u001b[0;32m<ipython-input-16-7a12bcea67dc>\u001b[0m in \u001b[0;36m<cell line: 0>\u001b[0;34m()\u001b[0m\n\u001b[0;32m----> 1\u001b[0;31m \u001b[0mtuple1\u001b[0m\u001b[0;34m[\u001b[0m\u001b[0;36m2\u001b[0m\u001b[0;34m]\u001b[0m\u001b[0;34m=\u001b[0m\u001b[0;34m\"hello\"\u001b[0m\u001b[0;34m\u001b[0m\u001b[0;34m\u001b[0m\u001b[0m\n\u001b[0m\u001b[1;32m      2\u001b[0m \u001b[0mtuple1\u001b[0m\u001b[0;34m\u001b[0m\u001b[0;34m\u001b[0m\u001b[0m\n",
            "\u001b[0;31mTypeError\u001b[0m: 'tuple' object does not support item assignment"
          ]
        }
      ]
    },
    {
      "cell_type": "markdown",
      "source": [
        "Q6. Write a function to demonstarate the behaviour of mutable and immutable arguments."
      ],
      "metadata": {
        "id": "a8puWAqzEogK"
      }
    },
    {
      "cell_type": "code",
      "source": [
        "words=[\"blocked\",\"concentrate\",\"simple\",\"achieve\",\"massive\"]\n",
        "words[4]=\"senile\"\n",
        "words"
      ],
      "metadata": {
        "colab": {
          "base_uri": "https://localhost:8080/"
        },
        "id": "Q8LpYQ0DEiQ6",
        "outputId": "7f09aa52-4ef0-4f31-aceb-49a9ebe156e9"
      },
      "execution_count": null,
      "outputs": [
        {
          "output_type": "execute_result",
          "data": {
            "text/plain": [
              "['blocked', 'concentrate', 'simple', 'achieve', 'senile']"
            ]
          },
          "metadata": {},
          "execution_count": 19
        }
      ]
    },
    {
      "cell_type": "markdown",
      "source": [
        "the above shown is an example of a list,list is a type of mutable object supports item assignment, now if i do the same in a tuple, integers or booleans , it will throw me an error as these objects are immutable in nature and does not support item assingment"
      ],
      "metadata": {
        "id": "reTXuSMlFWlq"
      }
    },
    {
      "cell_type": "markdown",
      "source": [
        "Q8. Write a program to demonstrate the use of logical operators\n",
        "\n",
        "- To check a student, if he scored more than the passing marks and more than the average marks"
      ],
      "metadata": {
        "id": "YViByKDjH26_"
      }
    },
    {
      "cell_type": "code",
      "source": [
        "student_marks=52\n",
        "passing_marks=33\n",
        "average_marks=50\n",
        "print(student_marks>passing_marks and student_marks>average_marks)"
      ],
      "metadata": {
        "colab": {
          "base_uri": "https://localhost:8080/"
        },
        "id": "kDmGkjR9H2NJ",
        "outputId": "599a5066-9be2-43ed-9baa-152126127212"
      },
      "execution_count": null,
      "outputs": [
        {
          "output_type": "stream",
          "name": "stdout",
          "text": [
            "True\n"
          ]
        }
      ]
    },
    {
      "cell_type": "markdown",
      "source": [
        "Q9. Write a python program to convert user input from string to integer,float,and boolean types"
      ],
      "metadata": {
        "id": "U1MBeaILMyco"
      }
    },
    {
      "cell_type": "code",
      "source": [
        "a=\"35\"\n",
        "type(a)\n"
      ],
      "metadata": {
        "colab": {
          "base_uri": "https://localhost:8080/"
        },
        "id": "BzG0XCblL-5P",
        "outputId": "01a38048-f22a-4fb6-ba55-3379a066c5ff"
      },
      "execution_count": null,
      "outputs": [
        {
          "output_type": "execute_result",
          "data": {
            "text/plain": [
              "str"
            ]
          },
          "metadata": {},
          "execution_count": 23
        }
      ]
    },
    {
      "cell_type": "code",
      "source": [
        "int(a)"
      ],
      "metadata": {
        "colab": {
          "base_uri": "https://localhost:8080/"
        },
        "id": "u_GtdhkKPSLw",
        "outputId": "8d8a32f8-5f0e-4365-fedc-2461e00c9b5f"
      },
      "execution_count": null,
      "outputs": [
        {
          "output_type": "execute_result",
          "data": {
            "text/plain": [
              "35"
            ]
          },
          "metadata": {},
          "execution_count": 24
        }
      ]
    },
    {
      "cell_type": "code",
      "source": [
        "float(a)"
      ],
      "metadata": {
        "colab": {
          "base_uri": "https://localhost:8080/"
        },
        "id": "kETODQ5JPXRo",
        "outputId": "efb1ed05-56b3-4692-e0ad-8f0ad608e3bf"
      },
      "execution_count": null,
      "outputs": [
        {
          "output_type": "execute_result",
          "data": {
            "text/plain": [
              "35.0"
            ]
          },
          "metadata": {},
          "execution_count": 25
        }
      ]
    },
    {
      "cell_type": "code",
      "source": [
        "bool(a)"
      ],
      "metadata": {
        "colab": {
          "base_uri": "https://localhost:8080/"
        },
        "id": "mUhLK2ZsPgnj",
        "outputId": "7839187c-6345-4837-bdcc-d4501f13854c"
      },
      "execution_count": null,
      "outputs": [
        {
          "output_type": "execute_result",
          "data": {
            "text/plain": [
              "True"
            ]
          },
          "metadata": {},
          "execution_count": 26
        }
      ]
    },
    {
      "cell_type": "markdown",
      "source": [
        "Q10. Write a code to demonstrate type casting with list elements."
      ],
      "metadata": {
        "id": "8GCrF4SpPj5L"
      }
    },
    {
      "cell_type": "code",
      "source": [
        "list2=[23,3+5j,\"car\",456,78.4,True]\n",
        "type(list2[4])"
      ],
      "metadata": {
        "colab": {
          "base_uri": "https://localhost:8080/"
        },
        "id": "HFc8aUlBPiY7",
        "outputId": "a1a1c1a2-866d-4f9f-c109-15cc68f47348"
      },
      "execution_count": null,
      "outputs": [
        {
          "output_type": "execute_result",
          "data": {
            "text/plain": [
              "float"
            ]
          },
          "metadata": {},
          "execution_count": 27
        }
      ]
    },
    {
      "cell_type": "code",
      "source": [
        "int(list2[4])"
      ],
      "metadata": {
        "colab": {
          "base_uri": "https://localhost:8080/"
        },
        "id": "vAQx5MxkQzTp",
        "outputId": "28140755-7381-4a67-8d5d-4d3507fa8898"
      },
      "execution_count": null,
      "outputs": [
        {
          "output_type": "execute_result",
          "data": {
            "text/plain": [
              "78"
            ]
          },
          "metadata": {},
          "execution_count": 28
        }
      ]
    },
    {
      "cell_type": "code",
      "source": [
        "type(int(list2[4]))"
      ],
      "metadata": {
        "colab": {
          "base_uri": "https://localhost:8080/"
        },
        "id": "6CkWSO3XQ5uA",
        "outputId": "f5054ffe-1fa1-43b2-87c0-6b0892629d69"
      },
      "execution_count": null,
      "outputs": [
        {
          "output_type": "execute_result",
          "data": {
            "text/plain": [
              "int"
            ]
          },
          "metadata": {},
          "execution_count": 29
        }
      ]
    },
    {
      "cell_type": "markdown",
      "source": [
        "Q11. Write a program that checks if a number is positive, negative or zero."
      ],
      "metadata": {
        "id": "_I-t3MY8RGfq"
      }
    },
    {
      "cell_type": "code",
      "source": [
        "number=int(input(\"enter a number: \"))\n",
        "if number>0:\n",
        "  print(\"the number is positive\")\n",
        "elif number<0:\n",
        "  print(\"the  number is negative\")\n",
        "else:\n",
        "  print(\"the number is zero\")"
      ],
      "metadata": {
        "colab": {
          "base_uri": "https://localhost:8080/"
        },
        "id": "DpL2NWOiRsa7",
        "outputId": "24ced677-a889-40c3-c2ca-e4ff923f54cf"
      },
      "execution_count": null,
      "outputs": [
        {
          "output_type": "stream",
          "name": "stdout",
          "text": [
            "enter a number: -56\n",
            "the  number is negative\n"
          ]
        }
      ]
    },
    {
      "cell_type": "markdown",
      "source": [
        "Q12. Write a for loop to print numbers from 1 to 10."
      ],
      "metadata": {
        "id": "8RiHzRVlS47p"
      }
    },
    {
      "cell_type": "code",
      "source": [
        "for i in range(1,11):\n",
        "  print(i)"
      ],
      "metadata": {
        "colab": {
          "base_uri": "https://localhost:8080/"
        },
        "id": "VAarKWOKTAjh",
        "outputId": "918259fb-d68f-4f24-9b7c-67d54e9ae028"
      },
      "execution_count": null,
      "outputs": [
        {
          "output_type": "stream",
          "name": "stdout",
          "text": [
            "1\n",
            "2\n",
            "3\n",
            "4\n",
            "5\n",
            "6\n",
            "7\n",
            "8\n",
            "9\n",
            "10\n"
          ]
        }
      ]
    },
    {
      "cell_type": "markdown",
      "source": [
        "Q13. Write a python program to find the sum of all even numbers between 1 and 50."
      ],
      "metadata": {
        "id": "2xoYcnfBT5Hw"
      }
    },
    {
      "cell_type": "code",
      "source": [
        "total_sum=0\n",
        "for number in range(1,51):\n",
        "  if number % 2 == 0:\n",
        "    total_sum+=number\n",
        "print(total_sum)\n",
        "\n",
        "\n",
        "\n",
        "\n"
      ],
      "metadata": {
        "colab": {
          "base_uri": "https://localhost:8080/"
        },
        "id": "H66nDbdQTnbj",
        "outputId": "2a75f278-3190-4be2-c78f-b0549f56fdbc"
      },
      "execution_count": null,
      "outputs": [
        {
          "output_type": "stream",
          "name": "stdout",
          "text": [
            "650\n"
          ]
        }
      ]
    },
    {
      "cell_type": "markdown",
      "source": [
        "Q15. Write a python program to calculate the factorial of a number provided by the user using a while loop."
      ],
      "metadata": {
        "id": "2pRhTmh0co1z"
      }
    },
    {
      "cell_type": "code",
      "source": [
        "number = int(input(\"Enter a number: \"))\n",
        "factorial = 1\n",
        "if number < 0:\n",
        "    print(\"Factorial is not defined for negative numbers.\")\n",
        "elif number == 0:\n",
        "    print(\"The factorial of 0 is 1.\")\n",
        "else:\n",
        "    i = 1\n",
        "    while i <= number:\n",
        "        factorial *= i\n",
        "        i += 1\n",
        "    print(f\"The factorial of {number} is {factorial}.\")\n",
        "\n",
        "\n"
      ],
      "metadata": {
        "colab": {
          "base_uri": "https://localhost:8080/"
        },
        "id": "EetzQ8NFbVru",
        "outputId": "b1e39d62-806d-461c-e592-f96519db13e4"
      },
      "execution_count": null,
      "outputs": [
        {
          "output_type": "stream",
          "name": "stdout",
          "text": [
            "Enter a number: 4\n",
            "The factorial of 4 is 24.\n"
          ]
        }
      ]
    }
  ]
}